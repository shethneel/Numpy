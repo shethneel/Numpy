{
 "cells": [
  {
   "cell_type": "code",
   "execution_count": 1,
   "id": "d3a6d43f",
   "metadata": {
    "scrolled": true
   },
   "outputs": [
    {
     "name": "stdout",
     "output_type": "stream",
     "text": [
      "hello\n"
     ]
    }
   ],
   "source": [
    "print ('hello')"
   ]
  },
  {
   "cell_type": "code",
   "execution_count": 2,
   "id": "a33057b6",
   "metadata": {
    "scrolled": true
   },
   "outputs": [
    {
     "name": "stdout",
     "output_type": "stream",
     "text": [
      "Requirement already satisfied: numpy in /Users/neelsheth/opt/anaconda3/lib/python3.9/site-packages (1.21.5)\n",
      "Note: you may need to restart the kernel to use updated packages.\n"
     ]
    }
   ],
   "source": [
    "pip install numpy"
   ]
  },
  {
   "cell_type": "code",
   "execution_count": 3,
   "id": "2197ea77",
   "metadata": {
    "scrolled": true
   },
   "outputs": [],
   "source": [
    "import numpy as np"
   ]
  },
  {
   "cell_type": "code",
   "execution_count": 4,
   "id": "d177039f",
   "metadata": {
    "scrolled": true
   },
   "outputs": [
    {
     "data": {
      "text/plain": [
       "<module 'numpy' from '/Users/neelsheth/opt/anaconda3/lib/python3.9/site-packages/numpy/__init__.py'>"
      ]
     },
     "execution_count": 4,
     "metadata": {},
     "output_type": "execute_result"
    }
   ],
   "source": [
    "np"
   ]
  },
  {
   "cell_type": "code",
   "execution_count": 5,
   "id": "24c7bd8f",
   "metadata": {
    "scrolled": true
   },
   "outputs": [],
   "source": [
    "ls = [[1,2,3,13] , [4,5,6,14] , [7,8,9,15] , [10,11,12,16] ]"
   ]
  },
  {
   "cell_type": "code",
   "execution_count": 6,
   "id": "b19f433a",
   "metadata": {
    "scrolled": true
   },
   "outputs": [
    {
     "data": {
      "text/plain": [
       "[[1, 2, 3, 13], [4, 5, 6, 14], [7, 8, 9, 15], [10, 11, 12, 16]]"
      ]
     },
     "execution_count": 6,
     "metadata": {},
     "output_type": "execute_result"
    }
   ],
   "source": [
    "ls"
   ]
  },
  {
   "cell_type": "code",
   "execution_count": 7,
   "id": "4b7a4143",
   "metadata": {
    "scrolled": true
   },
   "outputs": [
    {
     "data": {
      "text/plain": [
       "list"
      ]
     },
     "execution_count": 7,
     "metadata": {},
     "output_type": "execute_result"
    }
   ],
   "source": [
    "type(ls)"
   ]
  },
  {
   "cell_type": "markdown",
   "id": "eb0c1971",
   "metadata": {},
   "source": [
    "## Converting list to array"
   ]
  },
  {
   "cell_type": "code",
   "execution_count": 8,
   "id": "eb1b9216",
   "metadata": {
    "scrolled": true
   },
   "outputs": [],
   "source": [
    "ar = np.array(ls)"
   ]
  },
  {
   "cell_type": "code",
   "execution_count": 9,
   "id": "642c3c18",
   "metadata": {
    "scrolled": true
   },
   "outputs": [
    {
     "data": {
      "text/plain": [
       "array([[ 1,  2,  3, 13],\n",
       "       [ 4,  5,  6, 14],\n",
       "       [ 7,  8,  9, 15],\n",
       "       [10, 11, 12, 16]])"
      ]
     },
     "execution_count": 9,
     "metadata": {},
     "output_type": "execute_result"
    }
   ],
   "source": [
    "ar"
   ]
  },
  {
   "cell_type": "code",
   "execution_count": 10,
   "id": "b104b20b",
   "metadata": {
    "scrolled": true
   },
   "outputs": [
    {
     "data": {
      "text/plain": [
       "numpy.ndarray"
      ]
     },
     "execution_count": 10,
     "metadata": {},
     "output_type": "execute_result"
    }
   ],
   "source": [
    "type (ar) # Here, ndarray means n dimentional array"
   ]
  },
  {
   "cell_type": "markdown",
   "id": "e49950ea",
   "metadata": {},
   "source": [
    "## Checking Dimensions of an array"
   ]
  },
  {
   "cell_type": "code",
   "execution_count": 11,
   "id": "1bdd3136",
   "metadata": {
    "scrolled": true
   },
   "outputs": [
    {
     "data": {
      "text/plain": [
       "2"
      ]
     },
     "execution_count": 11,
     "metadata": {},
     "output_type": "execute_result"
    }
   ],
   "source": [
    "ar.ndim"
   ]
  },
  {
   "cell_type": "markdown",
   "id": "fd578d89",
   "metadata": {},
   "source": [
    "## Checking the shape, size and datatype of the array"
   ]
  },
  {
   "cell_type": "code",
   "execution_count": 12,
   "id": "4ae96832",
   "metadata": {
    "scrolled": true
   },
   "outputs": [
    {
     "data": {
      "text/plain": [
       "(4, 4)"
      ]
     },
     "execution_count": 12,
     "metadata": {},
     "output_type": "execute_result"
    }
   ],
   "source": [
    "ar.shape"
   ]
  },
  {
   "cell_type": "code",
   "execution_count": 13,
   "id": "b79dbb59",
   "metadata": {
    "scrolled": true
   },
   "outputs": [
    {
     "data": {
      "text/plain": [
       "16"
      ]
     },
     "execution_count": 13,
     "metadata": {},
     "output_type": "execute_result"
    }
   ],
   "source": [
    "ar.size"
   ]
  },
  {
   "cell_type": "code",
   "execution_count": 14,
   "id": "e3fbdacd",
   "metadata": {
    "scrolled": true
   },
   "outputs": [
    {
     "data": {
      "text/plain": [
       "dtype('int64')"
      ]
     },
     "execution_count": 14,
     "metadata": {},
     "output_type": "execute_result"
    }
   ],
   "source": [
    "ar.dtype"
   ]
  },
  {
   "cell_type": "markdown",
   "id": "a597876b",
   "metadata": {},
   "source": [
    "## Creating array using zeros and ones"
   ]
  },
  {
   "cell_type": "code",
   "execution_count": 15,
   "id": "6319833e",
   "metadata": {},
   "outputs": [],
   "source": [
    "# There is a function named Zero which we can use : zeros(size,dtype,order)\n",
    "\n",
    "zeros = np.zeros((3,4))"
   ]
  },
  {
   "cell_type": "code",
   "execution_count": 16,
   "id": "30dbaaca",
   "metadata": {},
   "outputs": [
    {
     "data": {
      "text/plain": [
       "array([[0., 0., 0., 0.],\n",
       "       [0., 0., 0., 0.],\n",
       "       [0., 0., 0., 0.]])"
      ]
     },
     "execution_count": 16,
     "metadata": {},
     "output_type": "execute_result"
    }
   ],
   "source": [
    "zeros"
   ]
  },
  {
   "cell_type": "code",
   "execution_count": 17,
   "id": "c952eb46",
   "metadata": {},
   "outputs": [],
   "source": [
    "ones = np.ones((2,7))"
   ]
  },
  {
   "cell_type": "code",
   "execution_count": 18,
   "id": "8766c3b1",
   "metadata": {},
   "outputs": [
    {
     "data": {
      "text/plain": [
       "array([[1., 1., 1., 1., 1., 1., 1.],\n",
       "       [1., 1., 1., 1., 1., 1., 1.]])"
      ]
     },
     "execution_count": 18,
     "metadata": {},
     "output_type": "execute_result"
    }
   ],
   "source": [
    "ones"
   ]
  },
  {
   "cell_type": "markdown",
   "id": "2db64c4a",
   "metadata": {},
   "source": [
    "## Creating array of random number"
   ]
  },
  {
   "cell_type": "code",
   "execution_count": 19,
   "id": "7d579af9",
   "metadata": {},
   "outputs": [],
   "source": [
    "ran = np.random.random((3,9))"
   ]
  },
  {
   "cell_type": "code",
   "execution_count": 20,
   "id": "54399ba3",
   "metadata": {},
   "outputs": [
    {
     "data": {
      "text/plain": [
       "array([[4.65062637e-01, 7.76264843e-01, 7.32990672e-01, 9.00655007e-01,\n",
       "        1.54702899e-01, 1.31458614e-01, 6.30847861e-01, 4.17175968e-01,\n",
       "        2.52678379e-01],\n",
       "       [7.20729339e-01, 6.07747354e-01, 4.62445625e-01, 8.50967137e-01,\n",
       "        6.73362597e-01, 5.21033426e-01, 1.83641214e-01, 2.50167324e-01,\n",
       "        9.28134518e-01],\n",
       "       [3.07943410e-01, 7.45247905e-01, 9.80959950e-01, 2.24681413e-04,\n",
       "        2.04941241e-01, 4.48373380e-01, 6.17681359e-01, 3.50614201e-01,\n",
       "        2.78154188e-01]])"
      ]
     },
     "execution_count": 20,
     "metadata": {},
     "output_type": "execute_result"
    }
   ],
   "source": [
    "ran"
   ]
  },
  {
   "cell_type": "code",
   "execution_count": 21,
   "id": "811d80be",
   "metadata": {},
   "outputs": [],
   "source": [
    "ran2 = np.random.rand()"
   ]
  },
  {
   "cell_type": "code",
   "execution_count": 22,
   "id": "d672b986",
   "metadata": {},
   "outputs": [
    {
     "data": {
      "text/plain": [
       "0.15966283284957572"
      ]
     },
     "execution_count": 22,
     "metadata": {},
     "output_type": "execute_result"
    }
   ],
   "source": [
    "ran2"
   ]
  },
  {
   "cell_type": "markdown",
   "id": "88e2d0f2",
   "metadata": {},
   "source": [
    "### random function provides numbers between 0 to 1"
   ]
  },
  {
   "cell_type": "code",
   "execution_count": 23,
   "id": "74644ab5",
   "metadata": {},
   "outputs": [
    {
     "name": "stdout",
     "output_type": "stream",
     "text": [
      "Run the cell\n"
     ]
    }
   ],
   "source": [
    "if np.random.random() > 0.5:\n",
    "    print (\"Run the cell\")\n",
    "else :\n",
    "    print (\"Don't run the cell\")"
   ]
  },
  {
   "cell_type": "code",
   "execution_count": 24,
   "id": "3e2eeb8b",
   "metadata": {},
   "outputs": [
    {
     "name": "stdout",
     "output_type": "stream",
     "text": [
      "Run the cell\n"
     ]
    }
   ],
   "source": [
    "if np.random.random() > 0.5:\n",
    "    print (\"Run the cell\")\n",
    "else :\n",
    "    print (\"Don't run the cell\")"
   ]
  },
  {
   "cell_type": "code",
   "execution_count": 25,
   "id": "2eee3409",
   "metadata": {},
   "outputs": [
    {
     "name": "stdout",
     "output_type": "stream",
     "text": [
      "Don't run the cell\n"
     ]
    }
   ],
   "source": [
    "if np.random.random() > 0.5:\n",
    "    print (\"Run the cell\")\n",
    "else :\n",
    "    print (\"Don't run the cell\")"
   ]
  },
  {
   "cell_type": "markdown",
   "id": "3ed7b45d",
   "metadata": {},
   "source": [
    "## Arange function"
   ]
  },
  {
   "cell_type": "code",
   "execution_count": 26,
   "id": "1b6d7975",
   "metadata": {},
   "outputs": [
    {
     "data": {
      "text/plain": [
       "array([ 2,  4,  6,  8, 10])"
      ]
     },
     "execution_count": 26,
     "metadata": {},
     "output_type": "execute_result"
    }
   ],
   "source": [
    "np.arange (2, 11, 2)   # np.arange (start, end, difference)"
   ]
  },
  {
   "cell_type": "markdown",
   "id": "e99ce8cb",
   "metadata": {},
   "source": [
    "##### Difference between range and arange is that range is built-in function in python while arange is third party function which is Numpy"
   ]
  },
  {
   "cell_type": "markdown",
   "id": "162f7638",
   "metadata": {},
   "source": [
    "## Linespace function"
   ]
  },
  {
   "cell_type": "markdown",
   "id": "b595b6c8",
   "metadata": {},
   "source": [
    "### This function provides number of required values from range with the same space"
   ]
  },
  {
   "cell_type": "code",
   "execution_count": 27,
   "id": "d85bef4c",
   "metadata": {},
   "outputs": [
    {
     "data": {
      "text/plain": [
       "array([ 1.        ,  2.11111111,  3.22222222,  4.33333333,  5.44444444,\n",
       "        6.55555556,  7.66666667,  8.77777778,  9.88888889, 11.        ])"
      ]
     },
     "execution_count": 27,
     "metadata": {},
     "output_type": "execute_result"
    }
   ],
   "source": [
    "np.linspace (1,11,10) # np.linespace (start, end, num of required values from range)"
   ]
  },
  {
   "cell_type": "code",
   "execution_count": 28,
   "id": "01a6ede9",
   "metadata": {},
   "outputs": [
    {
     "data": {
      "text/plain": [
       "array([ 1. ,  3.5,  6. ,  8.5, 11. ])"
      ]
     },
     "execution_count": 28,
     "metadata": {},
     "output_type": "execute_result"
    }
   ],
   "source": [
    "np.linspace (1,11,5)"
   ]
  },
  {
   "cell_type": "markdown",
   "id": "6178c707",
   "metadata": {},
   "source": [
    "## Reshaping the array"
   ]
  },
  {
   "cell_type": "markdown",
   "id": "0cbaae9a",
   "metadata": {},
   "source": [
    "### np.reshape (array name, new shape, order)"
   ]
  },
  {
   "cell_type": "code",
   "execution_count": 29,
   "id": "4e8cbcd3",
   "metadata": {},
   "outputs": [],
   "source": [
    "ar = np.random.random((3,2))"
   ]
  },
  {
   "cell_type": "code",
   "execution_count": 30,
   "id": "d42321bf",
   "metadata": {},
   "outputs": [
    {
     "data": {
      "text/plain": [
       "array([[0.13458461, 0.92597471],\n",
       "       [0.85045896, 0.07988444],\n",
       "       [0.9234447 , 0.5081185 ]])"
      ]
     },
     "execution_count": 30,
     "metadata": {},
     "output_type": "execute_result"
    }
   ],
   "source": [
    "ar"
   ]
  },
  {
   "cell_type": "code",
   "execution_count": 31,
   "id": "4d5c0f9e",
   "metadata": {},
   "outputs": [
    {
     "data": {
      "text/plain": [
       "array([[0.13458461, 0.92597471, 0.85045896],\n",
       "       [0.07988444, 0.9234447 , 0.5081185 ]])"
      ]
     },
     "execution_count": 31,
     "metadata": {},
     "output_type": "execute_result"
    }
   ],
   "source": [
    "np.reshape(ar, (2,3))"
   ]
  },
  {
   "cell_type": "markdown",
   "id": "b5210cd2",
   "metadata": {},
   "source": [
    "### Important note :  While reshaping the array, initial number of elements = final number of element"
   ]
  },
  {
   "cell_type": "markdown",
   "id": "7fe70ae5",
   "metadata": {},
   "source": [
    "## Flatten array : Converts any dimention to one dimention"
   ]
  },
  {
   "cell_type": "code",
   "execution_count": 32,
   "id": "cb182a28",
   "metadata": {},
   "outputs": [],
   "source": [
    "arr = np.random.random ((4,5))"
   ]
  },
  {
   "cell_type": "code",
   "execution_count": 33,
   "id": "98c3c8bb",
   "metadata": {},
   "outputs": [
    {
     "data": {
      "text/plain": [
       "array([[0.99834748, 0.4909379 , 0.90683092, 0.9059512 , 0.48083498],\n",
       "       [0.83679881, 0.4839674 , 0.68663478, 0.50523562, 0.58223777],\n",
       "       [0.06006025, 0.86629892, 0.77820782, 0.68102644, 0.90645329],\n",
       "       [0.81594957, 0.7364425 , 0.29026322, 0.83627674, 0.3612712 ]])"
      ]
     },
     "execution_count": 33,
     "metadata": {},
     "output_type": "execute_result"
    }
   ],
   "source": [
    "arr"
   ]
  },
  {
   "cell_type": "code",
   "execution_count": 34,
   "id": "9663f2e7",
   "metadata": {},
   "outputs": [
    {
     "data": {
      "text/plain": [
       "array([0.99834748, 0.4909379 , 0.90683092, 0.9059512 , 0.48083498,\n",
       "       0.83679881, 0.4839674 , 0.68663478, 0.50523562, 0.58223777,\n",
       "       0.06006025, 0.86629892, 0.77820782, 0.68102644, 0.90645329,\n",
       "       0.81594957, 0.7364425 , 0.29026322, 0.83627674, 0.3612712 ])"
      ]
     },
     "execution_count": 34,
     "metadata": {},
     "output_type": "execute_result"
    }
   ],
   "source": [
    "arr.flatten()"
   ]
  },
  {
   "cell_type": "markdown",
   "id": "822a58f2",
   "metadata": {},
   "source": [
    "# Arithmetic Operations in Array"
   ]
  },
  {
   "cell_type": "code",
   "execution_count": 35,
   "id": "b07ca6d8",
   "metadata": {},
   "outputs": [],
   "source": [
    "are = np.array([1,2,3,4,5,6])"
   ]
  },
  {
   "cell_type": "code",
   "execution_count": 36,
   "id": "cbfb7e2f",
   "metadata": {},
   "outputs": [
    {
     "data": {
      "text/plain": [
       "array([1, 2, 3, 4, 5, 6])"
      ]
     },
     "execution_count": 36,
     "metadata": {},
     "output_type": "execute_result"
    }
   ],
   "source": [
    "are"
   ]
  },
  {
   "cell_type": "markdown",
   "id": "26d03eb8",
   "metadata": {},
   "source": [
    "## Addition, Subtraction, Multiplication, Division and Remainder in array"
   ]
  },
  {
   "cell_type": "code",
   "execution_count": 37,
   "id": "292e810e",
   "metadata": {},
   "outputs": [
    {
     "name": "stdout",
     "output_type": "stream",
     "text": [
      "[2 3 4 5 6 7]\n",
      "[-4 -3 -2 -1  0  1]\n",
      "[ 7 14 21 28 35 42]\n",
      "[0.5 1.  1.5 2.  2.5 3. ]\n",
      "[1 0 1 0 1 0]\n"
     ]
    }
   ],
   "source": [
    "print (are + 1)\n",
    "print (are - 5)\n",
    "print (are * 7)\n",
    "print (are / 2)\n",
    "print (are % 2)"
   ]
  },
  {
   "cell_type": "markdown",
   "id": "7fe194c6",
   "metadata": {},
   "source": [
    "## Finding powers of elements"
   ]
  },
  {
   "cell_type": "code",
   "execution_count": 38,
   "id": "c5c54570",
   "metadata": {},
   "outputs": [
    {
     "name": "stdout",
     "output_type": "stream",
     "text": [
      "[ 1  4  9 16 25 36]\n",
      "[  1   8  27  64 125 216]\n"
     ]
    }
   ],
   "source": [
    "print (are ** 2)\n",
    "print (are ** 3)"
   ]
  },
  {
   "cell_type": "markdown",
   "id": "13c138fd",
   "metadata": {},
   "source": [
    "## Max and Min in 1D array"
   ]
  },
  {
   "cell_type": "code",
   "execution_count": 39,
   "id": "9fce838f",
   "metadata": {},
   "outputs": [
    {
     "data": {
      "text/plain": [
       "6"
      ]
     },
     "execution_count": 39,
     "metadata": {},
     "output_type": "execute_result"
    }
   ],
   "source": [
    "are.max()"
   ]
  },
  {
   "cell_type": "code",
   "execution_count": 40,
   "id": "77fc4d3b",
   "metadata": {},
   "outputs": [
    {
     "data": {
      "text/plain": [
       "1"
      ]
     },
     "execution_count": 40,
     "metadata": {},
     "output_type": "execute_result"
    }
   ],
   "source": [
    "are.min()"
   ]
  },
  {
   "cell_type": "markdown",
   "id": "82760508",
   "metadata": {},
   "source": [
    "## Max and Min in Multidimentional array"
   ]
  },
  {
   "cell_type": "code",
   "execution_count": 41,
   "id": "3a4624d3",
   "metadata": {},
   "outputs": [],
   "source": [
    "ls = [[1,2,3,13] , [4,5,6,14] , [7,8,9,15] , [10,11,12,16] ]"
   ]
  },
  {
   "cell_type": "code",
   "execution_count": 42,
   "id": "940badf2",
   "metadata": {},
   "outputs": [],
   "source": [
    "lis = np.array(ls)"
   ]
  },
  {
   "cell_type": "code",
   "execution_count": 43,
   "id": "e9958829",
   "metadata": {},
   "outputs": [
    {
     "data": {
      "text/plain": [
       "array([[ 1,  2,  3, 13],\n",
       "       [ 4,  5,  6, 14],\n",
       "       [ 7,  8,  9, 15],\n",
       "       [10, 11, 12, 16]])"
      ]
     },
     "execution_count": 43,
     "metadata": {},
     "output_type": "execute_result"
    }
   ],
   "source": [
    "lis"
   ]
  },
  {
   "cell_type": "markdown",
   "id": "09b82b11",
   "metadata": {},
   "source": [
    "### 0 Axis means column and 1 Axis means row"
   ]
  },
  {
   "cell_type": "code",
   "execution_count": 44,
   "id": "b7edca76",
   "metadata": {},
   "outputs": [
    {
     "data": {
      "text/plain": [
       "array([10, 11, 12, 16])"
      ]
     },
     "execution_count": 44,
     "metadata": {},
     "output_type": "execute_result"
    }
   ],
   "source": [
    "lis.max(axis = 0)"
   ]
  },
  {
   "cell_type": "code",
   "execution_count": 45,
   "id": "7c787ba2",
   "metadata": {},
   "outputs": [
    {
     "data": {
      "text/plain": [
       "array([ 1,  4,  7, 10])"
      ]
     },
     "execution_count": 45,
     "metadata": {},
     "output_type": "execute_result"
    }
   ],
   "source": [
    "lis.min(axis = 1)"
   ]
  },
  {
   "cell_type": "code",
   "execution_count": 46,
   "id": "ace3b197",
   "metadata": {},
   "outputs": [
    {
     "data": {
      "text/plain": [
       "136"
      ]
     },
     "execution_count": 46,
     "metadata": {},
     "output_type": "execute_result"
    }
   ],
   "source": [
    "lis.sum()"
   ]
  },
  {
   "cell_type": "markdown",
   "id": "e9495478",
   "metadata": {},
   "source": [
    "## Arithmetic operations in 2D array"
   ]
  },
  {
   "cell_type": "code",
   "execution_count": 47,
   "id": "df2c142d",
   "metadata": {},
   "outputs": [],
   "source": [
    "ar1 = np.array([[1,2,3], [4,5,6], [7,8,9]])\n",
    "ar2 = np.array([[9,8,7], [6,5,4], [3,2,1]])\n",
    "ar3 = np.array([[9,8,7,6], [6,5,4,3], [3,2,1,0]])"
   ]
  },
  {
   "cell_type": "code",
   "execution_count": 48,
   "id": "d25bf4fd",
   "metadata": {},
   "outputs": [
    {
     "data": {
      "text/plain": [
       "array([[1, 2, 3],\n",
       "       [4, 5, 6],\n",
       "       [7, 8, 9]])"
      ]
     },
     "execution_count": 48,
     "metadata": {},
     "output_type": "execute_result"
    }
   ],
   "source": [
    "ar1"
   ]
  },
  {
   "cell_type": "code",
   "execution_count": 49,
   "id": "b1346680",
   "metadata": {},
   "outputs": [
    {
     "data": {
      "text/plain": [
       "array([[9, 8, 7],\n",
       "       [6, 5, 4],\n",
       "       [3, 2, 1]])"
      ]
     },
     "execution_count": 49,
     "metadata": {},
     "output_type": "execute_result"
    }
   ],
   "source": [
    "ar2"
   ]
  },
  {
   "cell_type": "code",
   "execution_count": 50,
   "id": "829a7efd",
   "metadata": {},
   "outputs": [
    {
     "data": {
      "text/plain": [
       "array([[10, 10, 10],\n",
       "       [10, 10, 10],\n",
       "       [10, 10, 10]])"
      ]
     },
     "execution_count": 50,
     "metadata": {},
     "output_type": "execute_result"
    }
   ],
   "source": [
    "ar1+ar2"
   ]
  },
  {
   "cell_type": "markdown",
   "id": "59268292",
   "metadata": {},
   "source": [
    "#### Arrays with different shape will not accept any operation"
   ]
  },
  {
   "cell_type": "code",
   "execution_count": 51,
   "id": "42d2f116",
   "metadata": {},
   "outputs": [
    {
     "ename": "ValueError",
     "evalue": "operands could not be broadcast together with shapes (3,3) (3,4) ",
     "output_type": "error",
     "traceback": [
      "\u001b[0;31m---------------------------------------------------------------------------\u001b[0m",
      "\u001b[0;31mValueError\u001b[0m                                Traceback (most recent call last)",
      "Input \u001b[0;32mIn [51]\u001b[0m, in \u001b[0;36m<cell line: 1>\u001b[0;34m()\u001b[0m\n\u001b[0;32m----> 1\u001b[0m \u001b[43mar1\u001b[49m\u001b[38;5;241;43m+\u001b[39;49m\u001b[43mar3\u001b[49m\n",
      "\u001b[0;31mValueError\u001b[0m: operands could not be broadcast together with shapes (3,3) (3,4) "
     ]
    }
   ],
   "source": [
    "ar1+ar3"
   ]
  },
  {
   "cell_type": "code",
   "execution_count": 52,
   "id": "80a9c6cb",
   "metadata": {},
   "outputs": [
    {
     "data": {
      "text/plain": [
       "array([[ 9, 16, 21],\n",
       "       [24, 25, 24],\n",
       "       [21, 16,  9]])"
      ]
     },
     "execution_count": 52,
     "metadata": {},
     "output_type": "execute_result"
    }
   ],
   "source": [
    "ar1*ar2"
   ]
  },
  {
   "cell_type": "markdown",
   "id": "4f9e5b15",
   "metadata": {},
   "source": [
    "### Dot product"
   ]
  },
  {
   "cell_type": "code",
   "execution_count": 53,
   "id": "3d67e346",
   "metadata": {},
   "outputs": [
    {
     "data": {
      "text/plain": [
       "array([[ 30,  24,  18],\n",
       "       [ 84,  69,  54],\n",
       "       [138, 114,  90]])"
      ]
     },
     "execution_count": 53,
     "metadata": {},
     "output_type": "execute_result"
    }
   ],
   "source": [
    "ar1.dot(ar2)"
   ]
  },
  {
   "cell_type": "code",
   "execution_count": 54,
   "id": "3e6e650e",
   "metadata": {},
   "outputs": [
    {
     "data": {
      "text/plain": [
       "array([[ 90, 114, 138],\n",
       "       [ 54,  69,  84],\n",
       "       [ 18,  24,  30]])"
      ]
     },
     "execution_count": 54,
     "metadata": {},
     "output_type": "execute_result"
    }
   ],
   "source": [
    "ar2.dot(ar1)"
   ]
  },
  {
   "cell_type": "markdown",
   "id": "7e47e2bb",
   "metadata": {},
   "source": [
    "### Indexing"
   ]
  },
  {
   "cell_type": "code",
   "execution_count": 55,
   "id": "bd9a6383",
   "metadata": {},
   "outputs": [],
   "source": [
    "arr = np.array([1,2,3,4,5])"
   ]
  },
  {
   "cell_type": "code",
   "execution_count": 56,
   "id": "db544e76",
   "metadata": {},
   "outputs": [
    {
     "data": {
      "text/plain": [
       "array([1, 2, 3, 4, 5])"
      ]
     },
     "execution_count": 56,
     "metadata": {},
     "output_type": "execute_result"
    }
   ],
   "source": [
    "arr"
   ]
  },
  {
   "cell_type": "code",
   "execution_count": 57,
   "id": "17c1382e",
   "metadata": {},
   "outputs": [
    {
     "data": {
      "text/plain": [
       "array([1, 2, 3])"
      ]
     },
     "execution_count": 57,
     "metadata": {},
     "output_type": "execute_result"
    }
   ],
   "source": [
    "arr[:3]"
   ]
  },
  {
   "cell_type": "code",
   "execution_count": 58,
   "id": "6cd75a97",
   "metadata": {},
   "outputs": [
    {
     "data": {
      "text/plain": [
       "array([[1, 2, 3],\n",
       "       [4, 5, 6],\n",
       "       [7, 8, 9]])"
      ]
     },
     "execution_count": 58,
     "metadata": {},
     "output_type": "execute_result"
    }
   ],
   "source": [
    "ar1"
   ]
  },
  {
   "cell_type": "code",
   "execution_count": 59,
   "id": "61352002",
   "metadata": {},
   "outputs": [
    {
     "data": {
      "text/plain": [
       "array([[1, 2, 3],\n",
       "       [4, 5, 6],\n",
       "       [7, 8, 9]])"
      ]
     },
     "execution_count": 59,
     "metadata": {},
     "output_type": "execute_result"
    }
   ],
   "source": [
    "# Slicing in 2D array\n",
    "\n",
    "# Array_name [start : end (for rows) , start : end (for column)]\n",
    "\n",
    "ar1[:,:]"
   ]
  },
  {
   "cell_type": "code",
   "execution_count": 60,
   "id": "b4606545",
   "metadata": {},
   "outputs": [
    {
     "data": {
      "text/plain": [
       "array([[1, 2, 3],\n",
       "       [4, 5, 6]])"
      ]
     },
     "execution_count": 60,
     "metadata": {},
     "output_type": "execute_result"
    }
   ],
   "source": [
    "ar1 [ : 2 , :]"
   ]
  },
  {
   "cell_type": "code",
   "execution_count": 61,
   "id": "38a3c536",
   "metadata": {},
   "outputs": [
    {
     "data": {
      "text/plain": [
       "array([[1],\n",
       "       [4],\n",
       "       [7]])"
      ]
     },
     "execution_count": 61,
     "metadata": {},
     "output_type": "execute_result"
    }
   ],
   "source": [
    "ar1 [ : , : 1]"
   ]
  },
  {
   "cell_type": "code",
   "execution_count": 62,
   "id": "15c6d63c",
   "metadata": {},
   "outputs": [
    {
     "data": {
      "text/plain": [
       "array([[5]])"
      ]
     },
     "execution_count": 62,
     "metadata": {},
     "output_type": "execute_result"
    }
   ],
   "source": [
    "ar1 [1 : 2 , 1 : 2]"
   ]
  },
  {
   "cell_type": "code",
   "execution_count": 63,
   "id": "4add22c9",
   "metadata": {},
   "outputs": [
    {
     "data": {
      "text/plain": [
       "array([[1, 2, 3],\n",
       "       [4, 5, 6],\n",
       "       [7, 8, 9]])"
      ]
     },
     "execution_count": 63,
     "metadata": {},
     "output_type": "execute_result"
    }
   ],
   "source": [
    "ar1"
   ]
  },
  {
   "cell_type": "markdown",
   "id": "64a39438",
   "metadata": {},
   "source": [
    "# Sorting using Numpy"
   ]
  },
  {
   "cell_type": "code",
   "execution_count": 64,
   "id": "45000ccc",
   "metadata": {},
   "outputs": [],
   "source": [
    "M = np.array ([[5,3,6,1,9] , [7,5,2,1,8] , [1,3,2,6,4]])"
   ]
  },
  {
   "cell_type": "code",
   "execution_count": 65,
   "id": "25e9be9b",
   "metadata": {},
   "outputs": [
    {
     "data": {
      "text/plain": [
       "array([[5, 3, 6, 1, 9],\n",
       "       [7, 5, 2, 1, 8],\n",
       "       [1, 3, 2, 6, 4]])"
      ]
     },
     "execution_count": 65,
     "metadata": {},
     "output_type": "execute_result"
    }
   ],
   "source": [
    "M"
   ]
  },
  {
   "cell_type": "code",
   "execution_count": 66,
   "id": "73411ef1",
   "metadata": {},
   "outputs": [],
   "source": [
    "# For sorting, we have Sort function in Numpy\n",
    "\n",
    "# numpy.sort(array_name, axis = 0 or 1, kind = None, order = None)\n",
    "\n",
    "# Here, default is quicksort algo., so if we don't mention kind then it'll go with quick sort"
   ]
  },
  {
   "cell_type": "code",
   "execution_count": 67,
   "id": "b1b9e47c",
   "metadata": {},
   "outputs": [
    {
     "data": {
      "text/plain": [
       "array([[1, 3, 5, 6, 9],\n",
       "       [1, 2, 5, 7, 8],\n",
       "       [1, 2, 3, 4, 6]])"
      ]
     },
     "execution_count": 67,
     "metadata": {},
     "output_type": "execute_result"
    }
   ],
   "source": [
    "np.sort(M, axis = 1, kind = 'mergesort')"
   ]
  },
  {
   "cell_type": "code",
   "execution_count": 68,
   "id": "ca357ece",
   "metadata": {},
   "outputs": [
    {
     "data": {
      "text/plain": [
       "array([[1, 3, 2, 1, 4],\n",
       "       [5, 3, 2, 1, 8],\n",
       "       [7, 5, 6, 6, 9]])"
      ]
     },
     "execution_count": 68,
     "metadata": {},
     "output_type": "execute_result"
    }
   ],
   "source": [
    "np.sort(M, axis = 0, kind = 'mergesort')"
   ]
  },
  {
   "cell_type": "markdown",
   "id": "9f5fb40d",
   "metadata": {},
   "source": [
    "# Deep dive in array slicing"
   ]
  },
  {
   "cell_type": "markdown",
   "id": "ebdf9edc",
   "metadata": {},
   "source": [
    "### For 1D array"
   ]
  },
  {
   "cell_type": "code",
   "execution_count": 69,
   "id": "76ed7351",
   "metadata": {},
   "outputs": [],
   "source": [
    "arr1 = np.array ([1,3,5,7,2,4,6,8])"
   ]
  },
  {
   "cell_type": "code",
   "execution_count": 70,
   "id": "485cd541",
   "metadata": {},
   "outputs": [
    {
     "data": {
      "text/plain": [
       "array([1, 3, 5, 7, 2, 4, 6, 8])"
      ]
     },
     "execution_count": 70,
     "metadata": {},
     "output_type": "execute_result"
    }
   ],
   "source": [
    "arr1"
   ]
  },
  {
   "cell_type": "code",
   "execution_count": 71,
   "id": "cf7c4fcc",
   "metadata": {},
   "outputs": [
    {
     "data": {
      "text/plain": [
       "4"
      ]
     },
     "execution_count": 71,
     "metadata": {},
     "output_type": "execute_result"
    }
   ],
   "source": [
    "arr1[5]"
   ]
  },
  {
   "cell_type": "code",
   "execution_count": 72,
   "id": "58da7c9b",
   "metadata": {},
   "outputs": [
    {
     "data": {
      "text/plain": [
       "3"
      ]
     },
     "execution_count": 72,
     "metadata": {},
     "output_type": "execute_result"
    }
   ],
   "source": [
    "arr1[-7]"
   ]
  },
  {
   "cell_type": "code",
   "execution_count": 73,
   "id": "a93af788",
   "metadata": {},
   "outputs": [
    {
     "data": {
      "text/plain": [
       "array([3, 5, 7, 2, 4])"
      ]
     },
     "execution_count": 73,
     "metadata": {},
     "output_type": "execute_result"
    }
   ],
   "source": [
    "arr1[1:-2]"
   ]
  },
  {
   "cell_type": "markdown",
   "id": "528fed73",
   "metadata": {},
   "source": [
    "### For 2D array"
   ]
  },
  {
   "cell_type": "code",
   "execution_count": 74,
   "id": "48e76e16",
   "metadata": {},
   "outputs": [],
   "source": [
    "arr = np.array ([[1,3,5,7] , [2,4,6,8] , [9,7,5,3] , [10,8,6,4]])"
   ]
  },
  {
   "cell_type": "code",
   "execution_count": 75,
   "id": "4d8078eb",
   "metadata": {},
   "outputs": [
    {
     "data": {
      "text/plain": [
       "array([[ 1,  3,  5,  7],\n",
       "       [ 2,  4,  6,  8],\n",
       "       [ 9,  7,  5,  3],\n",
       "       [10,  8,  6,  4]])"
      ]
     },
     "execution_count": 75,
     "metadata": {},
     "output_type": "execute_result"
    }
   ],
   "source": [
    "arr"
   ]
  },
  {
   "cell_type": "code",
   "execution_count": 76,
   "id": "3bde80bb",
   "metadata": {},
   "outputs": [],
   "source": [
    "# Array_name [start : end (for rows) , start : end (for column)]"
   ]
  },
  {
   "cell_type": "code",
   "execution_count": 77,
   "id": "e03dc9b2",
   "metadata": {},
   "outputs": [
    {
     "data": {
      "text/plain": [
       "array([[9, 7]])"
      ]
     },
     "execution_count": 77,
     "metadata": {},
     "output_type": "execute_result"
    }
   ],
   "source": [
    "arr [2 : 3 ,  : 2]"
   ]
  },
  {
   "cell_type": "code",
   "execution_count": 78,
   "id": "5b6d9d6b",
   "metadata": {},
   "outputs": [
    {
     "data": {
      "text/plain": [
       "array([[9, 7, 5, 3]])"
      ]
     },
     "execution_count": 78,
     "metadata": {},
     "output_type": "execute_result"
    }
   ],
   "source": [
    "arr [2 : 3 , :]"
   ]
  },
  {
   "cell_type": "code",
   "execution_count": 79,
   "id": "579a688c",
   "metadata": {},
   "outputs": [
    {
     "data": {
      "text/plain": [
       "array([[ 2,  4,  6,  8],\n",
       "       [ 9,  7,  5,  3],\n",
       "       [10,  8,  6,  4]])"
      ]
     },
     "execution_count": 79,
     "metadata": {},
     "output_type": "execute_result"
    }
   ],
   "source": [
    "arr [1 : ,]"
   ]
  },
  {
   "cell_type": "markdown",
   "id": "ba3cbb34",
   "metadata": {},
   "source": [
    "# Merging Arrays"
   ]
  },
  {
   "cell_type": "markdown",
   "id": "c15dad74",
   "metadata": {},
   "source": [
    "There are two ways : <br>\n",
    "    1. Hstack / Vstack <br>\n",
    "    Syntax = np.vstack / hstack ((array1 , array2)) <br>\n",
    "    2. Concaenate <br> \n",
    "    Syntax = np.concatenate ((ar1 , ar2) , axis = 0 / 1)"
   ]
  },
  {
   "cell_type": "code",
   "execution_count": 80,
   "id": "39c63c8f",
   "metadata": {},
   "outputs": [],
   "source": [
    "ar1 = np.array([[1,2,3], [4,5,6], [7,8,9]])\n",
    "ar2 = np.array([[9,8,7], [6,5,4], [3,2,1]])"
   ]
  },
  {
   "cell_type": "code",
   "execution_count": 81,
   "id": "08c5c126",
   "metadata": {},
   "outputs": [
    {
     "data": {
      "text/plain": [
       "array([[1, 2, 3],\n",
       "       [4, 5, 6],\n",
       "       [7, 8, 9],\n",
       "       [9, 8, 7],\n",
       "       [6, 5, 4],\n",
       "       [3, 2, 1]])"
      ]
     },
     "execution_count": 81,
     "metadata": {},
     "output_type": "execute_result"
    }
   ],
   "source": [
    "np.vstack((ar1 , ar2))"
   ]
  },
  {
   "cell_type": "code",
   "execution_count": 82,
   "id": "7a80d1c4",
   "metadata": {},
   "outputs": [
    {
     "data": {
      "text/plain": [
       "array([[1, 2, 3, 9, 8, 7],\n",
       "       [4, 5, 6, 6, 5, 4],\n",
       "       [7, 8, 9, 3, 2, 1]])"
      ]
     },
     "execution_count": 82,
     "metadata": {},
     "output_type": "execute_result"
    }
   ],
   "source": [
    "np.hstack((ar1 , ar2))"
   ]
  },
  {
   "cell_type": "code",
   "execution_count": 83,
   "id": "1a36ec22",
   "metadata": {},
   "outputs": [
    {
     "data": {
      "text/plain": [
       "array([[1, 2, 3],\n",
       "       [4, 5, 6],\n",
       "       [7, 8, 9],\n",
       "       [9, 8, 7],\n",
       "       [6, 5, 4],\n",
       "       [3, 2, 1]])"
      ]
     },
     "execution_count": 83,
     "metadata": {},
     "output_type": "execute_result"
    }
   ],
   "source": [
    "np.concatenate ((ar1 , ar2) , axis = 0)"
   ]
  },
  {
   "cell_type": "code",
   "execution_count": 84,
   "id": "567269ac",
   "metadata": {},
   "outputs": [
    {
     "data": {
      "text/plain": [
       "array([[1, 2, 3, 9, 8, 7],\n",
       "       [4, 5, 6, 6, 5, 4],\n",
       "       [7, 8, 9, 3, 2, 1]])"
      ]
     },
     "execution_count": 84,
     "metadata": {},
     "output_type": "execute_result"
    }
   ],
   "source": [
    "np.concatenate ((ar1 , ar2) , axis = 1)"
   ]
  },
  {
   "cell_type": "markdown",
   "id": "66ec8379",
   "metadata": {},
   "source": [
    "# Splitting merged array"
   ]
  },
  {
   "cell_type": "markdown",
   "id": "90ef2801",
   "metadata": {},
   "source": [
    "There are two ways : <br>\n",
    "    1. Hsplit / Vsplit <br>\n",
    "    Syntax = np.vsplit / hsplit (array , number of split)"
   ]
  },
  {
   "cell_type": "code",
   "execution_count": 85,
   "id": "31c7f5e5",
   "metadata": {},
   "outputs": [
    {
     "data": {
      "text/plain": [
       "array([[1, 2, 3],\n",
       "       [4, 5, 6],\n",
       "       [7, 8, 9]])"
      ]
     },
     "execution_count": 85,
     "metadata": {},
     "output_type": "execute_result"
    }
   ],
   "source": [
    "ar1"
   ]
  },
  {
   "cell_type": "code",
   "execution_count": 86,
   "id": "ec62ddea",
   "metadata": {},
   "outputs": [
    {
     "data": {
      "text/plain": [
       "[array([[1, 2, 3]]), array([[4, 5, 6]]), array([[7, 8, 9]])]"
      ]
     },
     "execution_count": 86,
     "metadata": {},
     "output_type": "execute_result"
    }
   ],
   "source": [
    "np.vsplit (ar1 , 3)"
   ]
  },
  {
   "cell_type": "code",
   "execution_count": 87,
   "id": "a67e6203",
   "metadata": {},
   "outputs": [
    {
     "data": {
      "text/plain": [
       "[array([[1],\n",
       "        [4],\n",
       "        [7]]),\n",
       " array([[2],\n",
       "        [5],\n",
       "        [8]]),\n",
       " array([[3],\n",
       "        [6],\n",
       "        [9]])]"
      ]
     },
     "execution_count": 87,
     "metadata": {},
     "output_type": "execute_result"
    }
   ],
   "source": [
    "np.hsplit (ar1 , 3)"
   ]
  },
  {
   "cell_type": "markdown",
   "id": "1455b9a1",
   "metadata": {},
   "source": [
    "# Automation using Numpy"
   ]
  },
  {
   "cell_type": "code",
   "execution_count": 88,
   "id": "be260006",
   "metadata": {},
   "outputs": [],
   "source": [
    "lst = [1,2,3,4,5,6,7,8,9,10]"
   ]
  },
  {
   "cell_type": "code",
   "execution_count": 89,
   "id": "2ce953be",
   "metadata": {},
   "outputs": [
    {
     "name": "stdout",
     "output_type": "stream",
     "text": [
      "6\n",
      "7\n",
      "8\n",
      "9\n",
      "10\n"
     ]
    }
   ],
   "source": [
    "for i in lst:\n",
    "    if (i > 5):\n",
    "        print (i)"
   ]
  },
  {
   "cell_type": "markdown",
   "id": "1cc92ce3",
   "metadata": {},
   "source": [
    "The same thing we can do using numpy in one line only"
   ]
  },
  {
   "cell_type": "code",
   "execution_count": 90,
   "id": "749cc2df",
   "metadata": {},
   "outputs": [],
   "source": [
    "ls = np.array(lst)"
   ]
  },
  {
   "cell_type": "code",
   "execution_count": 91,
   "id": "6d6729fd",
   "metadata": {},
   "outputs": [
    {
     "data": {
      "text/plain": [
       "array([ 1,  2,  3,  4,  5,  6,  7,  8,  9, 10])"
      ]
     },
     "execution_count": 91,
     "metadata": {},
     "output_type": "execute_result"
    }
   ],
   "source": [
    "ls"
   ]
  },
  {
   "cell_type": "code",
   "execution_count": 92,
   "id": "ef0fb6a7",
   "metadata": {},
   "outputs": [
    {
     "data": {
      "text/plain": [
       "array([False, False, False, False, False,  True,  True,  True,  True,\n",
       "        True])"
      ]
     },
     "execution_count": 92,
     "metadata": {},
     "output_type": "execute_result"
    }
   ],
   "source": [
    "ls>5"
   ]
  }
 ],
 "metadata": {
  "kernelspec": {
   "display_name": "Python 3 (ipykernel)",
   "language": "python",
   "name": "python3"
  },
  "language_info": {
   "codemirror_mode": {
    "name": "ipython",
    "version": 3
   },
   "file_extension": ".py",
   "mimetype": "text/x-python",
   "name": "python",
   "nbconvert_exporter": "python",
   "pygments_lexer": "ipython3",
   "version": "3.9.12"
  }
 },
 "nbformat": 4,
 "nbformat_minor": 5
}
